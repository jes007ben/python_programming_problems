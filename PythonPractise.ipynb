{
  "nbformat": 4,
  "nbformat_minor": 0,
  "metadata": {
    "colab": {
      "name": "Untitled6.ipynb",
      "provenance": [],
      "include_colab_link": true
    },
    "kernelspec": {
      "name": "python3",
      "display_name": "Python 3"
    },
    "language_info": {
      "name": "python"
    }
  },
  "cells": [
    {
      "cell_type": "markdown",
      "metadata": {
        "id": "view-in-github",
        "colab_type": "text"
      },
      "source": [
        "<a href=\"https://colab.research.google.com/github/jes007ben/python_programming_problems/blob/main/PythonPractise.ipynb\" target=\"_parent\"><img src=\"https://colab.research.google.com/assets/colab-badge.svg\" alt=\"Open In Colab\"/></a>"
      ]
    },
    {
      "cell_type": "code",
      "metadata": {
        "id": "0261joWOTqhY"
      },
      "source": [
        "##Q1 Create a dictionary for all participants in the JDA program.\n",
        "#Keys should be the first letter in their names, Values should be their names.\n",
        "#[Hint] dic={\"l\":(Leul),\"J\":(Jerry,Jainam)........}\n"
      ],
      "execution_count": 1,
      "outputs": []
    },
    {
      "cell_type": "code",
      "metadata": {
        "colab": {
          "base_uri": "https://localhost:8080/"
        },
        "id": "YyDOF6vaTuKb",
        "outputId": "cf727a3f-a0e0-45b8-a6de-ef1e7c295639"
      },
      "source": [
        "group={\"J\":\"Jesso\",\"H\":(\"Harun\",\"Hossian\"),\"R\":\"Rohan\",\"P\":\"Poojan\"}\n",
        "print(group)"
      ],
      "execution_count": 6,
      "outputs": [
        {
          "output_type": "stream",
          "text": [
            "{'J': 'Jesso', 'H': ('Harun', 'Hossian'), 'R': 'Rohan', 'P': 'Poojan'}\n"
          ],
          "name": "stdout"
        }
      ]
    },
    {
      "cell_type": "markdown",
      "metadata": {
        "id": "4X4lGnqaVLb1"
      },
      "source": [
        "#Q2 What are the keys of your dictionary\n",
        "#Q3 What are the values of your dictionary\n",
        "#Q4 Find participant's names that start with J,I,M,C,A\n",
        "#Q5 Add the following to your dictionary\n",
        "# Key<(K,PD)>, Value<(Kristina)>\n",
        "#Q6 Find the length of your dictionary\n",
        "#Q7 Add the following to your dictionary\n",
        "# Key<(S,Instructor)>, Value<(Sarah)>\n",
        "#Q8 Find the length of your dictionary\n",
        "#Q7 Delete the following keys from your dictionary\n",
        "#Key<(S,Instructor)>\n",
        "#Key<J>\n",
        "#Q9 Find the length of your dictionary\n",
        "#Q10 Create a new dictionary called synonyms_dic\n",
        "#Q11 Add the synonyms of the following words to your dictionary\n",
        "#Bad, Good, Awesome, Cold, Easy, Hard, Big, Small\n",
        "#Q12 Use your dictionary to find the synonym of the following words\n",
        "# Awesome, Easy, Small, Old\n",
        "#Q13 Delete everything from synonyms_dic\n",
        "#Q14 Print all values in synonyms_dic\n",
        "\n",
        "4/9/2021 Dictionary Exercises - Jupyter Notebook\n",
        "\n",
        "localhost:8888/notebooks/Python_Projects/Week 2/Dictionary Exercises .ipynb 2/2\n",
        "In [ ]:\n",
        "\n",
        "In [ ]:\n",
        "\n",
        "In [ ]:\n",
        "#Q15 Convert the below two lists into dictionary\n",
        "Keys=[\"True\",\"False\"]\n",
        "Values=[1,0]\n",
        "\n",
        "#Q16 Sum all the values in the following dictionary\n",
        "income={'Jan':1000,'Feb':1500,'Mar':980,'April':1000}\n",
        "#Q17 Create the following dictionary encryption={10:\"hungry\", 101:\"am\", 110:\"I\",\n",
        "# What should be the decryption of the following code \"110 101 10 1011 110 1001 1"
      ]
    },
    {
      "cell_type": "markdown",
      "metadata": {
        "id": "DrJ5brnIVKrc"
      },
      "source": [
        ""
      ]
    },
    {
      "cell_type": "code",
      "metadata": {
        "colab": {
          "base_uri": "https://localhost:8080/"
        },
        "id": "EYTxGt_sUBKt",
        "outputId": "e76dd9f7-1d14-473f-d1ce-a9edf538d2ac"
      },
      "source": [
        "print(group.keys())"
      ],
      "execution_count": 10,
      "outputs": [
        {
          "output_type": "stream",
          "text": [
            "dict_keys(['J', 'H', 'R', 'P'])\n"
          ],
          "name": "stdout"
        }
      ]
    },
    {
      "cell_type": "code",
      "metadata": {
        "colab": {
          "base_uri": "https://localhost:8080/"
        },
        "id": "sHLcLf78Vo4c",
        "outputId": "3f83ecaf-bd12-4c66-dd20-dd9639ea2d1f"
      },
      "source": [
        "print(group.values())"
      ],
      "execution_count": 12,
      "outputs": [
        {
          "output_type": "stream",
          "text": [
            "dict_values(['Jesso', ('Harun', 'Hossian'), 'Rohan', 'Poojan'])\n"
          ],
          "name": "stdout"
        }
      ]
    },
    {
      "cell_type": "code",
      "metadata": {
        "colab": {
          "base_uri": "https://localhost:8080/",
          "height": 134
        },
        "id": "rEXAPJbAV6Hp",
        "outputId": "05f70cea-e8c5-4e37-da1d-caef85c53db5"
      },
      "source": [
        "if group.keys()==  \"J\" :\n",
        "  print(group.())"
      ],
      "execution_count": 24,
      "outputs": [
        {
          "output_type": "error",
          "ename": "SyntaxError",
          "evalue": "ignored",
          "traceback": [
            "\u001b[0;36m  File \u001b[0;32m\"<ipython-input-24-bfc5a8fb7592>\"\u001b[0;36m, line \u001b[0;32m2\u001b[0m\n\u001b[0;31m    print(group.())\u001b[0m\n\u001b[0m                ^\u001b[0m\n\u001b[0;31mSyntaxError\u001b[0m\u001b[0;31m:\u001b[0m invalid syntax\n"
          ]
        }
      ]
    },
    {
      "cell_type": "code",
      "metadata": {
        "id": "AMX6OkNyV2G4"
      },
      "source": [
        "()"
      ],
      "execution_count": null,
      "outputs": []
    }
  ]
}